{
 "cells": [
  {
   "cell_type": "code",
   "execution_count": 1,
   "metadata": {},
   "outputs": [],
   "source": [
    "import pandas as pd"
   ]
  },
  {
   "cell_type": "code",
   "execution_count": null,
   "metadata": {},
   "outputs": [],
   "source": [
    "csv_path = 'C:/Users/LuoZN/Desktop/客流数据/wanda-traffic/lisp/B1F.csv'\n",
    "f = open(csv_path)\n",
    "csv = pd.read_csv(f,header=None)\n",
    "f.close()\n",
    "\n",
    "def fixstr(s):\n",
    "    l = s[5:].split(' : ((')\n",
    "    l[0]=l[0].split(' ')[-1]\n",
    "    l[1]= l[1].split(') (')\n",
    "    l[1][-1] = l[1][-1].split(') ')[0]\n",
    "    l[1] = [(float(i.split(' ')[0]), float(i.split(' ')[1])) for i in l[1]]\n",
    "    return l\n",
    "\n",
    "\n",
    "temp = csv[0].apply(fixstr)\n",
    "\n",
    "\n",
    "csv[0] = [i[0] for i in temp]\n",
    "csv[1] = [i[1] for i in temp]\n",
    "csv"
   ]
  },
  {
   "cell_type": "code",
   "execution_count": null,
   "metadata": {},
   "outputs": [],
   "source": []
  }
 ],
 "metadata": {
  "kernelspec": {
   "display_name": "Python 3",
   "language": "python",
   "name": "python3"
  },
  "language_info": {
   "codemirror_mode": {
    "name": "ipython",
    "version": 3
   },
   "file_extension": ".py",
   "mimetype": "text/x-python",
   "name": "python",
   "nbconvert_exporter": "python",
   "pygments_lexer": "ipython3",
   "version": "3.7.1"
  }
 },
 "nbformat": 4,
 "nbformat_minor": 2
}
