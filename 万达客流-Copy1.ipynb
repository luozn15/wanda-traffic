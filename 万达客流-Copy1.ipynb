{
 "cells": [
  {
   "cell_type": "code",
   "execution_count": 1,
   "metadata": {},
   "outputs": [],
   "source": [
    "import sys\n",
    "import init\n",
    "import util\n",
    "import drawer"
   ]
  },
  {
   "cell_type": "code",
   "execution_count": 7,
   "metadata": {},
   "outputs": [
    {
     "data": {
      "text/plain": [
       "True"
      ]
     },
     "execution_count": 7,
     "metadata": {},
     "output_type": "execute_result"
    }
   ],
   "source": [
    "type(['C:/Users/LuoZN/Desktop/客流数据/wanda-traffic/lisp/1BF.csv']) == list"
   ]
  },
  {
   "cell_type": "code",
   "execution_count": 2,
   "metadata": {},
   "outputs": [
    {
     "name": "stdout",
     "output_type": "stream",
     "text": [
      "GUI start\n",
      "confirm\n",
      "confirm\n",
      "confirm\n",
      "confirm\n",
      "GUI stop\n",
      "proc start\n",
      "C:/Users/LuoZN/Desktop/客流数据/【客流+车场数据】0813.xlsx C:/Users/LuoZN/Desktop/客流数据/客流点位图.dxf C:/Users/LuoZN/Desktop/客流数据/wanda-traffic/lisp/1BF.csv\n",
      "xlsxProcessor inited:\n",
      "             广场级                                                          \\\n",
      "            10号门 1AF1/2/3号客梯厅旁通道 1AF-11号通道 1AF-1号消防电梯厅 1AF-2号通道 1AF-3号通道   \n",
      "日期                                                                         \n",
      "2018-12-01  5338             107      3029           0     5567        5   \n",
      "2018-12-02  3660             146      2442           6     5410       58   \n",
      "2018-12-03  1625              15       644           8     1917       12   \n",
      "2018-12-04  1507              16       506           1     1771       47   \n",
      "2018-12-05  1097              42       499           4     1717       16   \n",
      "\n",
      "                                                        ...        店铺级       \\\n",
      "           1AF-4号通道 1AF5号消防电梯厅 1AF6/7/8号客梯厅旁通道 1AF-6号通道 ...  中国移动智能体验店 众客优品   \n",
      "日期                                                      ...                   \n",
      "2018-12-01     2384         41              65       42 ...       2264  726   \n",
      "2018-12-02     2100         30               9       50 ...       1890  435   \n",
      "2018-12-03      283         20               3        4 ...        591  234   \n",
      "2018-12-04      301         19               3       74 ...        560  146   \n",
      "2018-12-05      216          9               0       54 ...        437  195   \n",
      "\n",
      "                                   停车场级                 \n",
      "             周大福   周大生 筑巢鸟生活   卓诗尼  混进口   入口 双入口右 双入口左  \n",
      "日期                                                      \n",
      "2018-12-01  1651  1966  1817  1427  NaN  NaN  NaN  NaN  \n",
      "2018-12-02  1173  1281  2553  1260  NaN  NaN  NaN  NaN  \n",
      "2018-12-03   291   394   366   245  NaN  NaN  NaN  NaN  \n",
      "2018-12-04   228   389   196   255  NaN  NaN  NaN  NaN  \n",
      "2018-12-05   197   401   119   174  NaN  NaN  NaN  NaN  \n",
      "\n",
      "[5 rows x 352 columns]                         广场级                                                 \\\n",
      "                       10号门 1AF1/2/3号客梯厅旁通道 1AF-11号通道 1AF-1号消防电梯厅 1AF-2号通道   \n",
      "2019-03-01 10：00-11：00   37               2        18           0       19   \n",
      "           11：00-12：00   60               3         8           0       29   \n",
      "           12：00-13：00   80               1         8           0       19   \n",
      "           13：00-14：00   62               0        10           0       22   \n",
      "           14：00-15：00   75               1         8           0       29   \n",
      "\n",
      "                                                                              \\\n",
      "                       1AF-3号通道 1AF-4号通道 1AF5号消防电梯厅 1AF6/7/8号客梯厅旁通道 1AF-6号通道   \n",
      "2019-03-01 10：00-11：00        2        1          0               0        0   \n",
      "           11：00-12：00        0        1          0               7        0   \n",
      "           12：00-13：00        0        9          0               6        0   \n",
      "           13：00-14：00        3        6          0              19        0   \n",
      "           14：00-15：00        0        4          2               9        0   \n",
      "\n",
      "                       ...   店铺级                             停车场级           \\\n",
      "                       ...  中国黄金 中国移动智能体验店 周大福 周大生 筑巢鸟生活 卓诗尼  混进口  入口 双入口右   \n",
      "2019-03-01 10：00-11：00 ...    17        15   8  15    12   2    6  28   11   \n",
      "           11：00-12：00 ...    11        19   3  12     4   7    5  40   14   \n",
      "           12：00-13：00 ...    15        24   2  12     4   7   12  30   15   \n",
      "           13：00-14：00 ...    10        24   4  10     6   1    9  25   13   \n",
      "           14：00-15：00 ...    34        52   6  26    10   4    4  32   11   \n",
      "\n",
      "                             \n",
      "                       双入口左  \n",
      "2019-03-01 10：00-11：00    0  \n",
      "           11：00-12：00    0  \n",
      "           12：00-13：00    0  \n",
      "           13：00-14：00    0  \n",
      "           14：00-15：00    0  \n",
      "\n",
      "[5 rows x 331 columns]\n",
      "xlsxProcessor finished:\n",
      "dxfProcessor inited:\n",
      "2482641.414634088 2003132.494850384 7178861.620266893 4657521.94083678\n",
      "dxfProcessor finished:\n",
      "csvProcessor inited:\n"
     ]
    },
    {
     "ename": "FileNotFoundError",
     "evalue": "[Errno 2] No such file or directory: 'C'",
     "output_type": "error",
     "traceback": [
      "\u001b[1;31m---------------------------------------------------------------------------\u001b[0m",
      "\u001b[1;31mFileNotFoundError\u001b[0m                         Traceback (most recent call last)",
      "\u001b[1;32m<ipython-input-2-e6afb3d21e1a>\u001b[0m in \u001b[0;36m<module>\u001b[1;34m\u001b[0m\n\u001b[1;32m----> 1\u001b[1;33m \u001b[0minitializer\u001b[0m \u001b[1;33m=\u001b[0m \u001b[0minit\u001b[0m\u001b[1;33m.\u001b[0m\u001b[0mInitializer\u001b[0m\u001b[1;33m(\u001b[0m\u001b[1;33m)\u001b[0m\u001b[1;33m\u001b[0m\u001b[1;33m\u001b[0m\u001b[0m\n\u001b[0m\u001b[0;32m      2\u001b[0m \u001b[0mxlsx_processor\u001b[0m \u001b[1;33m=\u001b[0m \u001b[0minitializer\u001b[0m\u001b[1;33m.\u001b[0m\u001b[0mxlsx_processor\u001b[0m\u001b[1;33m\u001b[0m\u001b[1;33m\u001b[0m\u001b[0m\n\u001b[0;32m      3\u001b[0m \u001b[0mdxf_processor\u001b[0m \u001b[1;33m=\u001b[0m \u001b[0minitializer\u001b[0m\u001b[1;33m.\u001b[0m\u001b[0mdxf_processor\u001b[0m\u001b[1;33m\u001b[0m\u001b[1;33m\u001b[0m\u001b[0m\n\u001b[0;32m      4\u001b[0m \u001b[0mcsv_processor\u001b[0m \u001b[1;33m=\u001b[0m \u001b[0minitializer\u001b[0m\u001b[1;33m.\u001b[0m\u001b[0mcsv_processor\u001b[0m\u001b[1;33m\u001b[0m\u001b[1;33m\u001b[0m\u001b[0m\n\u001b[0;32m      5\u001b[0m \u001b[0minitializer2\u001b[0m \u001b[1;33m=\u001b[0m \u001b[0minit\u001b[0m\u001b[1;33m.\u001b[0m\u001b[0mInitializer\u001b[0m\u001b[1;33m(\u001b[0m\u001b[1;33m)\u001b[0m\u001b[1;33m\u001b[0m\u001b[1;33m\u001b[0m\u001b[0m\n",
      "\u001b[1;32m~\\Desktop\\客流数据\\wanda-traffic\\init.py\u001b[0m in \u001b[0;36m__init__\u001b[1;34m(self)\u001b[0m\n\u001b[0;32m     19\u001b[0m     \u001b[1;32mdef\u001b[0m \u001b[0m__init__\u001b[0m\u001b[1;33m(\u001b[0m\u001b[0mself\u001b[0m\u001b[1;33m)\u001b[0m\u001b[1;33m:\u001b[0m\u001b[1;33m\u001b[0m\u001b[1;33m\u001b[0m\u001b[0m\n\u001b[0;32m     20\u001b[0m         \u001b[0mself\u001b[0m\u001b[1;33m.\u001b[0m\u001b[0mgetInput\u001b[0m\u001b[1;33m(\u001b[0m\u001b[1;33m)\u001b[0m\u001b[1;33m\u001b[0m\u001b[1;33m\u001b[0m\u001b[0m\n\u001b[1;32m---> 21\u001b[1;33m         \u001b[0mself\u001b[0m\u001b[1;33m.\u001b[0m\u001b[0mprocess\u001b[0m\u001b[1;33m(\u001b[0m\u001b[1;33m)\u001b[0m\u001b[1;33m\u001b[0m\u001b[1;33m\u001b[0m\u001b[0m\n\u001b[0m\u001b[0;32m     22\u001b[0m \u001b[1;33m\u001b[0m\u001b[0m\n\u001b[0;32m     23\u001b[0m     \u001b[1;32mdef\u001b[0m \u001b[0mgetInput\u001b[0m\u001b[1;33m(\u001b[0m\u001b[0mself\u001b[0m\u001b[1;33m)\u001b[0m\u001b[1;33m:\u001b[0m\u001b[1;33m\u001b[0m\u001b[1;33m\u001b[0m\u001b[0m\n",
      "\u001b[1;32m~\\Desktop\\客流数据\\wanda-traffic\\init.py\u001b[0m in \u001b[0;36mprocess\u001b[1;34m(self)\u001b[0m\n\u001b[0;32m     41\u001b[0m         \u001b[0mself\u001b[0m\u001b[1;33m.\u001b[0m\u001b[0mdxf_processor\u001b[0m \u001b[1;33m=\u001b[0m \u001b[0mdxfProc\u001b[0m\u001b[1;33m.\u001b[0m\u001b[0mdxfProcessor\u001b[0m\u001b[1;33m(\u001b[0m\u001b[0mself\u001b[0m\u001b[1;33m.\u001b[0m\u001b[0mname_dxf\u001b[0m\u001b[1;33m)\u001b[0m\u001b[1;33m\u001b[0m\u001b[1;33m\u001b[0m\u001b[0m\n\u001b[0;32m     42\u001b[0m \u001b[1;33m\u001b[0m\u001b[0m\n\u001b[1;32m---> 43\u001b[1;33m         \u001b[0mself\u001b[0m\u001b[1;33m.\u001b[0m\u001b[0mcsv_processor\u001b[0m \u001b[1;33m=\u001b[0m \u001b[0mcsvProc\u001b[0m\u001b[1;33m.\u001b[0m\u001b[0mcsvProcessor\u001b[0m\u001b[1;33m(\u001b[0m\u001b[0mself\u001b[0m\u001b[1;33m.\u001b[0m\u001b[0mname_csv\u001b[0m\u001b[1;33m)\u001b[0m\u001b[1;33m\u001b[0m\u001b[1;33m\u001b[0m\u001b[0m\n\u001b[0m\u001b[0;32m     44\u001b[0m \u001b[1;33m\u001b[0m\u001b[0m\n\u001b[0;32m     45\u001b[0m         \u001b[0mprint\u001b[0m\u001b[1;33m(\u001b[0m\u001b[1;34m'proc stop'\u001b[0m\u001b[1;33m)\u001b[0m\u001b[1;33m\u001b[0m\u001b[1;33m\u001b[0m\u001b[0m\n",
      "\u001b[1;32m~\\Desktop\\客流数据\\wanda-traffic\\csvProc.py\u001b[0m in \u001b[0;36m__init__\u001b[1;34m(self, csv_paths)\u001b[0m\n\u001b[0;32m     10\u001b[0m         \u001b[0mcsv\u001b[0m\u001b[1;33m=\u001b[0m\u001b[1;33m[\u001b[0m\u001b[1;33m]\u001b[0m\u001b[1;33m\u001b[0m\u001b[1;33m\u001b[0m\u001b[0m\n\u001b[0;32m     11\u001b[0m         \u001b[1;32mfor\u001b[0m \u001b[0mpath\u001b[0m \u001b[1;32min\u001b[0m \u001b[0mcsv_paths\u001b[0m\u001b[1;33m:\u001b[0m\u001b[1;33m\u001b[0m\u001b[1;33m\u001b[0m\u001b[0m\n\u001b[1;32m---> 12\u001b[1;33m             \u001b[0mf\u001b[0m \u001b[1;33m=\u001b[0m \u001b[0mopen\u001b[0m\u001b[1;33m(\u001b[0m\u001b[0mpath\u001b[0m\u001b[1;33m)\u001b[0m\u001b[1;33m\u001b[0m\u001b[1;33m\u001b[0m\u001b[0m\n\u001b[0m\u001b[0;32m     13\u001b[0m             \u001b[0mtemp\u001b[0m \u001b[1;33m=\u001b[0m \u001b[0mpd\u001b[0m\u001b[1;33m.\u001b[0m\u001b[0mread_csv\u001b[0m\u001b[1;33m(\u001b[0m\u001b[0mf\u001b[0m\u001b[1;33m,\u001b[0m \u001b[0mheader\u001b[0m\u001b[1;33m=\u001b[0m\u001b[1;32mNone\u001b[0m\u001b[1;33m)\u001b[0m\u001b[1;33m\u001b[0m\u001b[1;33m\u001b[0m\u001b[0m\n\u001b[0;32m     14\u001b[0m             \u001b[0mf\u001b[0m\u001b[1;33m.\u001b[0m\u001b[0mclose\u001b[0m\u001b[1;33m(\u001b[0m\u001b[1;33m)\u001b[0m\u001b[1;33m\u001b[0m\u001b[1;33m\u001b[0m\u001b[0m\n",
      "\u001b[1;31mFileNotFoundError\u001b[0m: [Errno 2] No such file or directory: 'C'"
     ]
    }
   ],
   "source": [
    "initializer = init.Initializer()\n",
    "xlsx_processor = initializer.xlsx_processor\n",
    "dxf_processor = initializer.dxf_processor\n",
    "csv_processor = initializer.csv_processor\n",
    "initializer2 = init.Initializer()"
   ]
  },
  {
   "cell_type": "code",
   "execution_count": null,
   "metadata": {},
   "outputs": [],
   "source": [
    "current_path='/'.join(sys.path[0].split('\\\\'))\n",
    "heatdrawer = drawer.heatDrawer(current_path)\n",
    "heatdrawer.set_data(xlsx_processor,dxf_processor,csv_processor)\n",
    "heatdrawer.draw()"
   ]
  },
  {
   "cell_type": "code",
   "execution_count": null,
   "metadata": {},
   "outputs": [],
   "source": [
    "import math\n",
    "import os \n",
    "import numpy as np\n",
    "import pandas as pd\n",
    "import matplotlib\n",
    "from matplotlib.lines import Line2D\n",
    "from matplotlib.patches import Arc,Polygon\n",
    "from matplotlib.collections import PatchCollection\n",
    "import matplotlib.pyplot as plt\n",
    "\n",
    "\n",
    "\n",
    "import util\n",
    "\n",
    "xa = heatdrawer.dxfprocessor.xa\n",
    "xi = heatdrawer.dxfprocessor.xi\n",
    "ya = heatdrawer.dxfprocessor.ya\n",
    "yi = heatdrawer.dxfprocessor.yi\n",
    "\n",
    "figure, ax = plt.subplots(figsize=((xa-xi)/10000,(ya-yi)/10000), dpi=100)\n",
    "ax.set_xlim(left=xi, right=xa,auto=False)\n",
    "ax.set_ylim(bottom=yi, top=ya,auto=False)\n",
    "\n",
    "\n",
    "'''heatdrawer.df_store_heat = heatdrawer.get_df_store_heat()\n",
    "date = '2018-12-01'\n",
    "heatdrawer.heat = heatdrawer.df_store_heat[pd.to_datetime(date)]\n",
    "'''\n",
    "boundaries = list(heatdrawer.df_store_heat['boundary'])\n",
    "names = list(heatdrawer.df_store_heat['name'])\n",
    "patches =[]\n",
    "for boundary ,name in zip(boundaries,names):\n",
    "    center = get_center(boundary)\n",
    "    polygon = Polygon(np.array(boundary), True,color='red')\n",
    "    patches.append(polygon)\n",
    "    plt.text(center[0],center[1],name)\n",
    "p = PatchCollection(patches, cmap=matplotlib.cm.jet,alpha=0.4)\n",
    "p.set_array(np.array(heatdrawer.heat))\n",
    "p.set_clim([0,max(list(heatdrawer.heat))])\n",
    "ax.add_collection(p)\n",
    "ax.set_aspect(1)\n",
    "figure.colorbar(p, ax=ax, orientation='horizontal')\n",
    "\n",
    "plt.plot()\n",
    "plt.show()"
   ]
  },
  {
   "cell_type": "code",
   "execution_count": null,
   "metadata": {},
   "outputs": [],
   "source": [
    "def get_center(boundary):\n",
    "    xs=0\n",
    "    ys=0\n",
    "    for x, y in boundary:\n",
    "        xs+=x\n",
    "        ys+=y\n",
    "    return (xs/len(boundary),ys/len(boundary))\n"
   ]
  },
  {
   "cell_type": "code",
   "execution_count": null,
   "metadata": {},
   "outputs": [],
   "source": [
    "np.array(list(heatdrawer.heat))"
   ]
  },
  {
   "cell_type": "code",
   "execution_count": null,
   "metadata": {},
   "outputs": [],
   "source": [
    "import numpy as np\n",
    "100*np.random.rand(len(list(heatdrawer.heat)))"
   ]
  },
  {
   "cell_type": "code",
   "execution_count": null,
   "metadata": {},
   "outputs": [],
   "source": [
    "np.array(heatdrawer.heat)/max(list(heatdrawer.heat))"
   ]
  },
  {
   "cell_type": "code",
   "execution_count": null,
   "metadata": {},
   "outputs": [],
   "source": []
  }
 ],
 "metadata": {
  "kernelspec": {
   "display_name": "Python 3",
   "language": "python",
   "name": "python3"
  },
  "language_info": {
   "codemirror_mode": {
    "name": "ipython",
    "version": 3
   },
   "file_extension": ".py",
   "mimetype": "text/x-python",
   "name": "python",
   "nbconvert_exporter": "python",
   "pygments_lexer": "ipython3",
   "version": "3.7.4"
  }
 },
 "nbformat": 4,
 "nbformat_minor": 2
}
