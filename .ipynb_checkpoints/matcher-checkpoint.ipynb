{
 "cells": [
  {
   "cell_type": "code",
   "execution_count": 55,
   "metadata": {},
   "outputs": [],
   "source": [
    "import dxfgrabber\n",
    "import math\n",
    "import numpy as np"
   ]
  },
  {
   "cell_type": "code",
   "execution_count": 3,
   "metadata": {},
   "outputs": [],
   "source": [
    "dxf_path = '../客流点位图-F.dxf'\n",
    "dxf = dxfgrabber.readfile(dxf_path)"
   ]
  },
  {
   "cell_type": "code",
   "execution_count": 5,
   "metadata": {},
   "outputs": [
    {
     "data": {
      "text/plain": [
       "<dxfgrabber.entitysection.EntitySection at 0x1e3fe21afd0>"
      ]
     },
     "execution_count": 5,
     "metadata": {},
     "output_type": "execute_result"
    }
   ],
   "source": [
    "for e in dxf.entities:\n",
    "    "
   ]
  },
  {
   "cell_type": "code",
   "execution_count": 8,
   "metadata": {},
   "outputs": [
    {
     "name": "stdout",
     "output_type": "stream",
     "text": [
      "['--盲道', '0', '0-BAFFLE WALL', '0-车库集水坑', '000类别', '00常熟铺位号', '02_PART_AXES', '03__ASM_ALL_CURVES', '04_PART_CURVES', '0928修改', '0CABR-铝板剖面', '0面积', '10-18修改', '160 80 6', '252', '3f$0$A-土建墙（含管井、立管）', 'A-AlumLine铝板看线', 'A-Alum铝板', 'A-Anno-Dims', 'A-Anno-Note', 'A-ELE-SIGN', 'A-FURN', 'A-Glaze玻璃', 'A-Index(建筑索引线剖切号线)', 'A-Insulation保温', 'A-Pub-Text(文字标注)', 'A-SCRN-HIDD', 'A-STRS', 'A-StelStruLine龙骨看线', 'A-TexturePaint真石漆', 'A-WALL-FNSH', 'A-WallLine墙看线', 'A-space(天正房间名称', 'A-土建墙填充', 'A-土建墙（含管井、立管）', 'A-窗', 'A-立面-窗户', 'A-置物台', 'AX-B02-P04$0$A-FURN', 'AX-P05-WALL$0$A-Wind', 'AX-SYJ-PROOF-COMP$0$0CABR-铝板剖面', 'AXIS', 'BALCONY', 'BS-TEXT-文字', 'BZ', 'Bounds', 'C-顶面造型(平面显示)', 'CLIEC', 'COLU', 'COLUMN', 'CURTWALL', 'DEFAULT_2', 'DIM', 'DIM-文字', 'DIM_ELEV', 'DIM_IDEN', 'DIM_SYMB', 'DIM_标注_A', 'DOOR_FIRE', 'DOOR_FIRE_TEXT', 'DUCT-加压送风管立管', 'DUCT-加压送风管端线', 'DUCT-回风管立管', 'DUCT-回风管端线', 'Defpoints', 'Dimensions', 'EL-标注', 'EQUIP_地漏', 'EQUIP_消火栓', 'EQUIP_雨水斗', 'EVTR', 'E_1', 'F-地坪分割线', 'GC', 'HANDRAIL', 'HATCH', 'ID', 'ID-P-FURN_FIXT', 'IPVA-LOGO', 'IPVA-LOGO-BLACK', 'IPVA-客流分析', 'IPVA-客流管理', 'J-屋顶排水', 'J-座椅', 'J-房间名称', 'J-房间名称-设备房', 'J-排水沟', 'J-洁具', 'J-灭火器', 'J-灭火器-保护距离', 'J-电梯', 'J-结构洞-电梯', 'J-结构洞-风井', 'J-结构洞-风井顶板开洞', 'J-荧幕', 'J-车位', 'J-车位-电', 'J-道路中心线', 'J-防火卷帘', 'J-降板', 'J-面层', 'JS-踏步', 'LATRINE', 'LVTRY', 'M-分体空调器', 'M-厨房泄爆井', 'M-厨房立风管', 'M-暖通立风管', 'M-暖通管井', 'M-消防-排烟中心线', 'M-消防-排烟管端线', 'P-固定家具（悬空）', 'P-固定家具（落地、不到顶）', 'P-固定家具（落地、到顶）', 'P-洁具及配件（地坪图不显示）', 'P-洁具及配件（地坪图显示）', 'P-窗帘', 'P-门', 'P-门套', 'P-频闪灯', 'PJ', 'PROMPT', 'PUB_DIM', 'PUB_HATCH', 'PUB_TEXT', 'PUB_TITLE', 'PUB_WALL', 'QN-结构', 'QN-给排水', 'S-排水系统', 'S-给排水', 'SPACE-管井-暖通', 'SPACE-管井-水井', 'SPACE-管井-电井', 'STAIR', 'SURFACE', 'S_CONCWALL', 'T-B-TEXT', 'T-BOUNDARY', 'T-T', 'TC', 'THUPDI-无障碍车位详图', 'TWT_DIM', 'TWT_LEAD', 'TWT_TEXT', 'USER', 'VALVE_废水', 'VALVE_污水', 'VALVE_消防', 'VALVE_给水', 'VPIPE-消防', 'VPIPE-雨水', 'W-区域文字', 'WALL', 'WALL-MOVE', 'WINDOW', 'WINDOW_TEXT', 'WP_P_PJ', 'WZ', 'X-LTBZ2', 'XC', 'XX', '_0', 'a-平面-铝板幕墙', 'bj-tk', 'car', 'dote', 'ds-台阶', 'layer 1', 'new - seat MM', 'qn-剖面看线', '人员疏散楼梯', '农场图层', '剖面', '品牌落位', '商管业态填充边框', '图名', '图层3', '图层4', '图框', '图签', '大样标注', '客流管理', '家具', '幕墙', '幕墙提资结构边线', '建筑-充电桩', '影院', '挑板结构边线', '挑梁结构边线', '提资标注4.21', '施工图-坡道', '标注', '检修梯', '楼梯编号', '电提结构资料', '电洞口', '电洞口（扩大）', '看线', '空调隐藏墙', '结构N', '结构挑板', '结构注释云线', '设计-支挡线-new', '设计-新支挡方案', '货车', '路缘石边线', '车主动线', '车位', '防火分区示意图', '降板填充', '面积', '香槟金色铝板new']\n"
     ]
    }
   ],
   "source": [
    "print(dxf.layers.names())"
   ]
  },
  {
   "cell_type": "code",
   "execution_count": 13,
   "metadata": {},
   "outputs": [
    {
     "data": {
      "text/plain": [
       "{'MTEXT', 'TEXT'}"
      ]
     },
     "execution_count": 13,
     "metadata": {},
     "output_type": "execute_result"
    }
   ],
   "source": [
    "ids = [e for e in dxf.entities if e.layer == 'ID']\n",
    "types0 = set([e.dxftype for e in ids])\n",
    "print(len(ids),types0)"
   ]
  },
  {
   "cell_type": "code",
   "execution_count": 17,
   "metadata": {},
   "outputs": [
    {
     "name": "stdout",
     "output_type": "stream",
     "text": [
      "271 {'LWPOLYLINE'}\n"
     ]
    }
   ],
   "source": [
    "bounds = [e for e in dxf.entities if e.layer == 'Bounds' and e.dxftype == 'LWPOLYLINE']\n",
    "types0 = set([e.dxftype for e in bounds])\n",
    "print(len(bounds),types0)"
   ]
  },
  {
   "cell_type": "code",
   "execution_count": 16,
   "metadata": {},
   "outputs": [
    {
     "data": {
      "text/plain": [
       "271"
      ]
     },
     "execution_count": 16,
     "metadata": {},
     "output_type": "execute_result"
    }
   ],
   "source": [
    "len([e for e in bounds if e.dxftype == 'LWPOLYLINE'])"
   ]
  },
  {
   "cell_type": "code",
   "execution_count": 18,
   "metadata": {},
   "outputs": [],
   "source": [
    "ids_m = [e for e in ids if e.dxftype == 'MTEXT']"
   ]
  },
  {
   "cell_type": "code",
   "execution_count": 23,
   "metadata": {},
   "outputs": [
    {
     "data": {
      "text/plain": [
       "'\\\\P\\\\P1B055'"
      ]
     },
     "execution_count": 23,
     "metadata": {},
     "output_type": "execute_result"
    }
   ],
   "source": [
    "e= ids_m[0]\n",
    "e.raw_text"
   ]
  },
  {
   "cell_type": "code",
   "execution_count": 24,
   "metadata": {},
   "outputs": [
    {
     "data": {
      "text/plain": [
       "(2158767.1307126, 6163083.35793293, 0.0)"
      ]
     },
     "execution_count": 24,
     "metadata": {},
     "output_type": "execute_result"
    }
   ],
   "source": [
    "e.insert"
   ]
  },
  {
   "cell_type": "code",
   "execution_count": 27,
   "metadata": {},
   "outputs": [
    {
     "data": {
      "text/plain": [
       "29821.64666007602"
      ]
     },
     "execution_count": 27,
     "metadata": {},
     "output_type": "execute_result"
    }
   ],
   "source": [
    "e.rect_width"
   ]
  },
  {
   "cell_type": "code",
   "execution_count": 28,
   "metadata": {},
   "outputs": [
    {
     "data": {
      "text/plain": [
       "1290.484"
      ]
     },
     "execution_count": 28,
     "metadata": {},
     "output_type": "execute_result"
    }
   ],
   "source": [
    "e.height"
   ]
  },
  {
   "cell_type": "code",
   "execution_count": 29,
   "metadata": {},
   "outputs": [],
   "source": [
    "e.vertical_height"
   ]
  },
  {
   "cell_type": "code",
   "execution_count": 30,
   "metadata": {},
   "outputs": [
    {
     "data": {
      "text/plain": [
       "1"
      ]
     },
     "execution_count": 30,
     "metadata": {},
     "output_type": "execute_result"
    }
   ],
   "source": [
    "e.attachment_point"
   ]
  },
  {
   "cell_type": "code",
   "execution_count": 87,
   "metadata": {},
   "outputs": [
    {
     "data": {
      "text/plain": [
       "5161.936000000001"
      ]
     },
     "execution_count": 87,
     "metadata": {},
     "output_type": "execute_result"
    }
   ],
   "source": [
    "lines = np.array([i for i,line in enumerate(e.lines()) if line != ''])\n",
    "y = (lines.mean()+0.5) * e.height*1.6 #调试系数1.6\n",
    "y"
   ]
  },
  {
   "cell_type": "code",
   "execution_count": 60,
   "metadata": {},
   "outputs": [
    {
     "data": {
      "text/plain": [
       "[2]"
      ]
     },
     "execution_count": 60,
     "metadata": {},
     "output_type": "execute_result"
    }
   ],
   "source": []
  },
  {
   "cell_type": "code",
   "execution_count": 34,
   "metadata": {},
   "outputs": [
    {
     "data": {
      "text/plain": [
       "1.0"
      ]
     },
     "execution_count": 34,
     "metadata": {},
     "output_type": "execute_result"
    }
   ],
   "source": [
    "e.line_spacing"
   ]
  },
  {
   "cell_type": "code",
   "execution_count": 46,
   "metadata": {},
   "outputs": [
    {
     "data": {
      "text/plain": [
       "'微软雅黑'"
      ]
     },
     "execution_count": 46,
     "metadata": {},
     "output_type": "execute_result"
    }
   ],
   "source": [
    "e.style"
   ]
  },
  {
   "cell_type": "code",
   "execution_count": 36,
   "metadata": {},
   "outputs": [
    {
     "data": {
      "text/plain": [
       "''"
      ]
     },
     "execution_count": 36,
     "metadata": {},
     "output_type": "execute_result"
    }
   ],
   "source": [
    "e.font"
   ]
  },
  {
   "cell_type": "code",
   "execution_count": 50,
   "metadata": {},
   "outputs": [
    {
     "data": {
      "text/plain": [
       "0.8"
      ]
     },
     "execution_count": 50,
     "metadata": {},
     "output_type": "execute_result"
    }
   ],
   "source": [
    "dxf.styles.get('微软雅黑').width"
   ]
  },
  {
   "cell_type": "code",
   "execution_count": 85,
   "metadata": {},
   "outputs": [
    {
     "data": {
      "text/plain": [
       "2064.7744"
      ]
     },
     "execution_count": 85,
     "metadata": {},
     "output_type": "execute_result"
    }
   ],
   "source": [
    "rows = np.array([len(line) for line in e.lines() if line != ''])\n",
    "x = rows.mean()/2 * dxf.styles.get(e.style).width * e.height*0.8 #调试系数0.8\n",
    "x "
   ]
  },
  {
   "cell_type": "code",
   "execution_count": 69,
   "metadata": {},
   "outputs": [],
   "source": [
    "dict_attachment_point = {1:[-1,1],\n",
    "                         2:[0,1],\n",
    "                         3:[1,1],\n",
    "                         4:[-1,0],\n",
    "                         5:[0,0],\n",
    "                         6:[1,0],\n",
    "                         7:[-1,-1],\n",
    "                         8:[0,-1],\n",
    "                         9:[1,-1]}"
   ]
  },
  {
   "cell_type": "code",
   "execution_count": 88,
   "metadata": {},
   "outputs": [
    {
     "data": {
      "text/plain": [
       "(2160831.9051126, 6157921.42193293)"
      ]
     },
     "execution_count": 88,
     "metadata": {},
     "output_type": "execute_result"
    }
   ],
   "source": [
    "attach = dict_attachment_point[e.attachment_point]\n",
    "center_x = -x * attach[0]+e.insert[0]\n",
    "center_y = -y * attach[1]+e.insert[1]\n",
    "(center_x,center_y)"
   ]
  },
  {
   "cell_type": "code",
   "execution_count": 71,
   "metadata": {},
   "outputs": [],
   "source": [
    "style = dxf.styles.get('微软雅黑')"
   ]
  },
  {
   "cell_type": "code",
   "execution_count": 72,
   "metadata": {},
   "outputs": [
    {
     "data": {
      "text/plain": [
       "0.0"
      ]
     },
     "execution_count": 72,
     "metadata": {},
     "output_type": "execute_result"
    }
   ],
   "source": [
    "style.height"
   ]
  },
  {
   "cell_type": "code",
   "execution_count": 73,
   "metadata": {},
   "outputs": [
    {
     "data": {
      "text/plain": [
       "1290.484"
      ]
     },
     "execution_count": 73,
     "metadata": {},
     "output_type": "execute_result"
    }
   ],
   "source": [
    "e.height"
   ]
  },
  {
   "cell_type": "code",
   "execution_count": 74,
   "metadata": {},
   "outputs": [],
   "source": [
    "e.vertical_height"
   ]
  },
  {
   "cell_type": "code",
   "execution_count": 75,
   "metadata": {},
   "outputs": [],
   "source": [
    "e.horizontal_width"
   ]
  },
  {
   "cell_type": "code",
   "execution_count": 76,
   "metadata": {},
   "outputs": [
    {
     "data": {
      "text/plain": [
       "29821.64666007602"
      ]
     },
     "execution_count": 76,
     "metadata": {},
     "output_type": "execute_result"
    }
   ],
   "source": [
    "e.rect_width"
   ]
  },
  {
   "cell_type": "code",
   "execution_count": 79,
   "metadata": {},
   "outputs": [
    {
     "data": {
      "text/plain": [
       "0.0"
      ]
     },
     "execution_count": 79,
     "metadata": {},
     "output_type": "execute_result"
    }
   ],
   "source": [
    "style.height"
   ]
  },
  {
   "cell_type": "code",
   "execution_count": 80,
   "metadata": {},
   "outputs": [
    {
     "data": {
      "text/plain": [
       "0.8"
      ]
     },
     "execution_count": 80,
     "metadata": {},
     "output_type": "execute_result"
    }
   ],
   "source": [
    "style.width"
   ]
  },
  {
   "cell_type": "code",
   "execution_count": 83,
   "metadata": {},
   "outputs": [
    {
     "data": {
      "text/plain": [
       "''"
      ]
     },
     "execution_count": 83,
     "metadata": {},
     "output_type": "execute_result"
    }
   ],
   "source": [
    "style.big_font"
   ]
  },
  {
   "cell_type": "code",
   "execution_count": null,
   "metadata": {},
   "outputs": [],
   "source": []
  }
 ],
 "metadata": {
  "kernelspec": {
   "display_name": "Python 3",
   "language": "python",
   "name": "python3"
  },
  "language_info": {
   "codemirror_mode": {
    "name": "ipython",
    "version": 3
   },
   "file_extension": ".py",
   "mimetype": "text/x-python",
   "name": "python",
   "nbconvert_exporter": "python",
   "pygments_lexer": "ipython3",
   "version": "3.7.1"
  }
 },
 "nbformat": 4,
 "nbformat_minor": 2
}
